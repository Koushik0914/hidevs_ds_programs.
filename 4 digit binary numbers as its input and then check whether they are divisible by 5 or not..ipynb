{
 "cells": [
  {
   "cell_type": "code",
   "execution_count": 10,
   "id": "b13b0276",
   "metadata": {},
   "outputs": [
    {
     "name": "stdout",
     "output_type": "stream",
     "text": [
      "enter a sequence of comma separated 4 digit binary numbers0100,0011,1010,1001\n",
      "1010,"
     ]
    }
   ],
   "source": [
    "seq=input(\"enter a sequence of comma separated 4 digit binary numbers\")\n",
    "L=[i for i in (seq.split(\",\"))]\n",
    "for j in L:\n",
    "    if int(j,2)%5==0:\n",
    "        print(j,end=\",\")\n",
    "\n",
    "        "
   ]
  },
  {
   "cell_type": "code",
   "execution_count": null,
   "id": "d7197c7c",
   "metadata": {},
   "outputs": [],
   "source": []
  }
 ],
 "metadata": {
  "kernelspec": {
   "display_name": "Python 3 (ipykernel)",
   "language": "python",
   "name": "python3"
  },
  "language_info": {
   "codemirror_mode": {
    "name": "ipython",
    "version": 3
   },
   "file_extension": ".py",
   "mimetype": "text/x-python",
   "name": "python",
   "nbconvert_exporter": "python",
   "pygments_lexer": "ipython3",
   "version": "3.10.9"
  }
 },
 "nbformat": 4,
 "nbformat_minor": 5
}
