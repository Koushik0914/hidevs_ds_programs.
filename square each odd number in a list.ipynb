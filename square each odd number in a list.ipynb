{
 "cells": [
  {
   "cell_type": "code",
   "execution_count": 11,
   "id": "a7778d85",
   "metadata": {},
   "outputs": [
    {
     "name": "stdout",
     "output_type": "stream",
     "text": [
      "enter the sequence of comma-separated numbers:1,2,3,4,5,6,7,8,9\n",
      "1,9,25,49,81\n"
     ]
    }
   ],
   "source": [
    "seq=input(\"enter the sequence of comma-separated numbers:\")\n",
    "L1=seq.split(\",\")\n",
    "L2=[]\n",
    "for i in L1:\n",
    "    if(int(i)%2!=0):\n",
    "        L2.append(str(int(i)*int(i)))\n",
    "print((\",\").join(L2))"
   ]
  }
 ],
 "metadata": {
  "kernelspec": {
   "display_name": "Python 3 (ipykernel)",
   "language": "python",
   "name": "python3"
  },
  "language_info": {
   "codemirror_mode": {
    "name": "ipython",
    "version": 3
   },
   "file_extension": ".py",
   "mimetype": "text/x-python",
   "name": "python",
   "nbconvert_exporter": "python",
   "pygments_lexer": "ipython3",
   "version": "3.10.9"
  }
 },
 "nbformat": 4,
 "nbformat_minor": 5
}
