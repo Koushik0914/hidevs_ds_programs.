{
 "cells": [
  {
   "cell_type": "raw",
   "id": "0e41bfb3",
   "metadata": {},
   "source": [
    "Level: Easy\n",
    "\n",
    "\n",
    "Problem Statement:\n",
    "\n",
    "You are developing a text processing application that requires filtering out certain words from a given sentence. Implement a Python function that takes in a sentence and a list of words to filter out. Use a lambda function to filter the words from the sentence and return the updated sentence."
   ]
  },
  {
   "cell_type": "code",
   "execution_count": 9,
   "id": "1214ce64",
   "metadata": {},
   "outputs": [
    {
     "name": "stdout",
     "output_type": "stream",
     "text": [
      "testing, seeing it's working or not\n"
     ]
    }
   ],
   "source": [
    "def filter_words(sentence, words_to_filter):\n",
    "   \n",
    "    filtered_sentence = \" \".join(filter(lambda word: word not in words_to_filter, sentence.split()))\n",
    "\n",
    "    return filtered_sentence\n",
    "\n",
    "\n",
    "filtered_sentence = filter_words(\"Hello Hello testing, seeing if it's working or not\", [\"if\", \"Hello\"])\n",
    "print(filtered_sentence)\n"
   ]
  },
  {
   "cell_type": "code",
   "execution_count": null,
   "id": "cfa76107",
   "metadata": {},
   "outputs": [],
   "source": []
  }
 ],
 "metadata": {
  "kernelspec": {
   "display_name": "Python 3 (ipykernel)",
   "language": "python",
   "name": "python3"
  },
  "language_info": {
   "codemirror_mode": {
    "name": "ipython",
    "version": 3
   },
   "file_extension": ".py",
   "mimetype": "text/x-python",
   "name": "python",
   "nbconvert_exporter": "python",
   "pygments_lexer": "ipython3",
   "version": "3.10.9"
  }
 },
 "nbformat": 4,
 "nbformat_minor": 5
}
