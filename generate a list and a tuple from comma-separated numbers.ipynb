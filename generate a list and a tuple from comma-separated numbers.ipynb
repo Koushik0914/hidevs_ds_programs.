{
 "cells": [
  {
   "cell_type": "code",
   "execution_count": 14,
   "id": "cce3ca66",
   "metadata": {},
   "outputs": [
    {
     "name": "stdout",
     "output_type": "stream",
     "text": [
      "eter the numbers, comma separated34,67,55,33,12,98\n",
      "['34', '67', '55', '33', '12', '98']('34', '67', '55', '33', '12', '98')\n"
     ]
    }
   ],
   "source": [
    "nums = (input(\"eter the numbers, comma separated\"))\n",
    "nums = [i for i in nums.split(',')]\n",
    "T=tuple(nums)\n",
    "print(nums,end='')\n",
    "print(T)"
   ]
  },
  {
   "cell_type": "code",
   "execution_count": null,
   "id": "59fc4d4e",
   "metadata": {},
   "outputs": [],
   "source": []
  }
 ],
 "metadata": {
  "kernelspec": {
   "display_name": "Python 3 (ipykernel)",
   "language": "python",
   "name": "python3"
  },
  "language_info": {
   "codemirror_mode": {
    "name": "ipython",
    "version": 3
   },
   "file_extension": ".py",
   "mimetype": "text/x-python",
   "name": "python",
   "nbconvert_exporter": "python",
   "pygments_lexer": "ipython3",
   "version": "3.10.9"
  }
 },
 "nbformat": 4,
 "nbformat_minor": 5
}
