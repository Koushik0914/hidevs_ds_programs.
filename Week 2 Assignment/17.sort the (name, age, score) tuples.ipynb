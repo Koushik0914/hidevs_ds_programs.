{
 "cells": [
  {
   "cell_type": "code",
   "execution_count": 13,
   "id": "1fcf19c3",
   "metadata": {},
   "outputs": [
    {
     "name": "stdout",
     "output_type": "stream",
     "text": [
      "enter data (Name,age,score) or \"Done\" to finish: Tom,19,80\n",
      "enter data (Name,age,score) or \"Done\" to finish: John,20,90\n",
      "enter data (Name,age,score) or \"Done\" to finish: Jony,17,91\n",
      "enter data (Name,age,score) or \"Done\" to finish: Jony,17,93\n",
      "enter data (Name,age,score) or \"Done\" to finish: Json,21,85\n",
      "enter data (Name,age,score) or \"Done\" to finish: Done\n",
      "[('John', '20', '90'), ('Jony', '17', '91'), ('Jony', '17', '93'), ('Json', '21', '85'), ('Tom', '19', '80')]\n"
     ]
    }
   ],
   "source": [
    "details=[]\n",
    "while True:\n",
    "    data=input('enter data (Name,age,score) or \"Done\" to finish: ')\n",
    "    if data == \"Done\":\n",
    "        break\n",
    "        \n",
    "    data_parts=data.split(\",\")\n",
    "    name=data_parts[0]\n",
    "    age=data_parts[1]\n",
    "    score=data_parts[2]\n",
    "    \n",
    "    details.append((name,age,score))\n",
    "details.sort()\n",
    "print(details)\n",
    "    "
   ]
  },
  {
   "cell_type": "code",
   "execution_count": null,
   "id": "66f2f8eb",
   "metadata": {},
   "outputs": [],
   "source": []
  }
 ],
 "metadata": {
  "kernelspec": {
   "display_name": "Python 3 (ipykernel)",
   "language": "python",
   "name": "python3"
  },
  "language_info": {
   "codemirror_mode": {
    "name": "ipython",
    "version": 3
   },
   "file_extension": ".py",
   "mimetype": "text/x-python",
   "name": "python",
   "nbconvert_exporter": "python",
   "pygments_lexer": "ipython3",
   "version": "3.10.9"
  }
 },
 "nbformat": 4,
 "nbformat_minor": 5
}
