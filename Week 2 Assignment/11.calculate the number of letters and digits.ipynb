{
 "cells": [
  {
   "cell_type": "code",
   "execution_count": 2,
   "id": "5365b092",
   "metadata": {},
   "outputs": [
    {
     "name": "stdout",
     "output_type": "stream",
     "text": [
      "enter the string: hello world! 123 \n",
      "LETTERS 10 DIGITS 3\n"
     ]
    }
   ],
   "source": [
    "string=input(\"enter the string: \")\n",
    "Digit=0\n",
    "Letter=0\n",
    "for char in string:\n",
    "    if char.isdigit():\n",
    "        Digit = Digit+1\n",
    "    if char.isalpha():\n",
    "        Letter=Letter+1\n",
    "print(\"LETTERS {} DIGITS {}\".format(Letter,Digit))"
   ]
  },
  {
   "cell_type": "code",
   "execution_count": null,
   "id": "1ae57b9d",
   "metadata": {},
   "outputs": [],
   "source": []
  }
 ],
 "metadata": {
  "kernelspec": {
   "display_name": "Python 3 (ipykernel)",
   "language": "python",
   "name": "python3"
  },
  "language_info": {
   "codemirror_mode": {
    "name": "ipython",
    "version": 3
   },
   "file_extension": ".py",
   "mimetype": "text/x-python",
   "name": "python",
   "nbconvert_exporter": "python",
   "pygments_lexer": "ipython3",
   "version": "3.10.9"
  }
 },
 "nbformat": 4,
 "nbformat_minor": 5
}
