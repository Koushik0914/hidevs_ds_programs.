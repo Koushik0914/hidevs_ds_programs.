{
 "cells": [
  {
   "cell_type": "code",
   "execution_count": 13,
   "id": "81a99a76",
   "metadata": {},
   "outputs": [
    {
     "name": "stdout",
     "output_type": "stream",
     "text": [
      "enter the words, comma separatedwithout,hello,bag,world \n",
      "bag,hello,without,world \n"
     ]
    }
   ],
   "source": [
    "seq= input(\"enter the words, comma separated\")\n",
    "L=seq.split(\",\")\n",
    "L.sort()\n",
    "new_seq=(\",\").join(L)\n",
    "print(new_seq)"
   ]
  },
  {
   "cell_type": "code",
   "execution_count": null,
   "id": "c2900273",
   "metadata": {},
   "outputs": [],
   "source": []
  }
 ],
 "metadata": {
  "kernelspec": {
   "display_name": "Python 3 (ipykernel)",
   "language": "python",
   "name": "python3"
  },
  "language_info": {
   "codemirror_mode": {
    "name": "ipython",
    "version": 3
   },
   "file_extension": ".py",
   "mimetype": "text/x-python",
   "name": "python",
   "nbconvert_exporter": "python",
   "pygments_lexer": "ipython3",
   "version": "3.10.9"
  }
 },
 "nbformat": 4,
 "nbformat_minor": 5
}
