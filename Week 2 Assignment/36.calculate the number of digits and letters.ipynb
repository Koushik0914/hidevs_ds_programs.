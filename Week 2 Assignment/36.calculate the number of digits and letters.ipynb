{
 "cells": [
  {
   "cell_type": "code",
   "execution_count": 3,
   "id": "994fb5f4",
   "metadata": {},
   "outputs": [
    {
     "name": "stdout",
     "output_type": "stream",
     "text": [
      "enter the string: Hello321Bye360\n",
      "Digit- 6 Letter- 8\n"
     ]
    }
   ],
   "source": [
    "string=input(\"enter the string: \")\n",
    "Digit=0\n",
    "Letter=0\n",
    "for char in string:\n",
    "    if char.isdigit():\n",
    "        Digit = Digit+1\n",
    "    if char.isalpha():\n",
    "        Letter=Letter+1\n",
    "print(\"Digit- {} Letter- {}\".format(Digit,Letter))"
   ]
  },
  {
   "cell_type": "code",
   "execution_count": null,
   "id": "914455a6",
   "metadata": {},
   "outputs": [],
   "source": []
  }
 ],
 "metadata": {
  "kernelspec": {
   "display_name": "Python 3 (ipykernel)",
   "language": "python",
   "name": "python3"
  },
  "language_info": {
   "codemirror_mode": {
    "name": "ipython",
    "version": 3
   },
   "file_extension": ".py",
   "mimetype": "text/x-python",
   "name": "python",
   "nbconvert_exporter": "python",
   "pygments_lexer": "ipython3",
   "version": "3.10.9"
  }
 },
 "nbformat": 4,
 "nbformat_minor": 5
}
