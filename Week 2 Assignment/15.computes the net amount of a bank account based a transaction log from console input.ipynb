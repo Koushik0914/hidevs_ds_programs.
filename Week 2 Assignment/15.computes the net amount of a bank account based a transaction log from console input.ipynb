{
 "cells": [
  {
   "cell_type": "code",
   "execution_count": 5,
   "id": "f0b2e886",
   "metadata": {},
   "outputs": [
    {
     "name": "stdout",
     "output_type": "stream",
     "text": [
      "enter the D\\W amount or enter 'Done' to finish: D 300\n",
      "enter the D\\W amount or enter 'Done' to finish: D 300\n",
      "enter the D\\W amount or enter 'Done' to finish: W 200\n",
      "enter the D\\W amount or enter 'Done' to finish: D 100\n",
      "enter the D\\W amount or enter 'Done' to finish: Done\n",
      "500\n"
     ]
    }
   ],
   "source": [
    "net_amount=0\n",
    "while True:\n",
    "    log=input(\"enter the D\\W amount or enter 'Done' to finish: \")\n",
    "    if log == \"Done\":\n",
    "        break\n",
    "    if log[0]=='D':\n",
    "        net_amount=net_amount+int(log[2:])\n",
    "    elif log[0]=='W':\n",
    "        net_amount=net_amount-int(log[2:])\n",
    "print(net_amount)\n",
    "        "
   ]
  },
  {
   "cell_type": "code",
   "execution_count": null,
   "id": "dd2eb8dd",
   "metadata": {},
   "outputs": [],
   "source": []
  }
 ],
 "metadata": {
  "kernelspec": {
   "display_name": "Python 3 (ipykernel)",
   "language": "python",
   "name": "python3"
  },
  "language_info": {
   "codemirror_mode": {
    "name": "ipython",
    "version": 3
   },
   "file_extension": ".py",
   "mimetype": "text/x-python",
   "name": "python",
   "nbconvert_exporter": "python",
   "pygments_lexer": "ipython3",
   "version": "3.10.9"
  }
 },
 "nbformat": 4,
 "nbformat_minor": 5
}
