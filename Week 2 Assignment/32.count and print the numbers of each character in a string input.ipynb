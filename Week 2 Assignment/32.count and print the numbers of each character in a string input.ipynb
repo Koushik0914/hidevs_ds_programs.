{
 "cells": [
  {
   "cell_type": "code",
   "execution_count": 7,
   "id": "5ca2185e",
   "metadata": {},
   "outputs": [
    {
     "name": "stdout",
     "output_type": "stream",
     "text": [
      "enter the string: abcdefgabc\n",
      "a,2 b,2 c,2 d,1 e,1 f,1 g,1 "
     ]
    }
   ],
   "source": [
    "string=input(\"enter the string: \")\n",
    "Dict={}\n",
    "for char in string:\n",
    "    if char in Dict:\n",
    "        Dict[char]=Dict[char]+1\n",
    "    else:\n",
    "        Dict[char]=1\n",
    "for key, value in Dict.items():\n",
    "    print(\"{},{}\".format(key,value),end=\" \")"
   ]
  },
  {
   "cell_type": "code",
   "execution_count": null,
   "id": "ea7442a3",
   "metadata": {},
   "outputs": [],
   "source": []
  }
 ],
 "metadata": {
  "kernelspec": {
   "display_name": "Python 3 (ipykernel)",
   "language": "python",
   "name": "python3"
  },
  "language_info": {
   "codemirror_mode": {
    "name": "ipython",
    "version": 3
   },
   "file_extension": ".py",
   "mimetype": "text/x-python",
   "name": "python",
   "nbconvert_exporter": "python",
   "pygments_lexer": "ipython3",
   "version": "3.10.9"
  }
 },
 "nbformat": 4,
 "nbformat_minor": 5
}
