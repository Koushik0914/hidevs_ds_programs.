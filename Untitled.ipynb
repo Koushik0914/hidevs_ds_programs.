{
 "cells": [
  {
   "cell_type": "raw",
   "id": "b961ef46",
   "metadata": {},
   "source": [
    "Level: Medium\n",
    "\n",
    "\n",
    "Problem Statement:\n",
    "\n",
    "You are working on a web application that requires authentication for certain routes. Implement a Python decorator that can be applied to these routes to check if the user is authenticated. If authenticated, allow access to the route; otherwise, return an error message. Test the decorator by applying it to a sample route function."
   ]
  },
  {
   "cell_type": "code",
   "execution_count": 4,
   "id": "65027668",
   "metadata": {},
   "outputs": [
    {
     "name": "stdout",
     "output_type": "stream",
     "text": [
      "This is a sample route function\n"
     ]
    }
   ],
   "source": [
    "def decorator(func):\n",
    "    \n",
    "    authenticate=True\n",
    "    \n",
    "    def wrapper():\n",
    "        if authenticate:\n",
    "            return func()\n",
    "        else:\n",
    "            print(\"Error\")\n",
    "    return wrapper\n",
    "\n",
    "\n",
    "@decorator\n",
    "def sample_route():\n",
    "    print(\"This is a sample route function\")\n",
    "    \n",
    "    \n",
    "sample_route()\n",
    "\n",
    "\n",
    "    "
   ]
  }
 ],
 "metadata": {
  "kernelspec": {
   "display_name": "Python 3 (ipykernel)",
   "language": "python",
   "name": "python3"
  },
  "language_info": {
   "codemirror_mode": {
    "name": "ipython",
    "version": 3
   },
   "file_extension": ".py",
   "mimetype": "text/x-python",
   "name": "python",
   "nbconvert_exporter": "python",
   "pygments_lexer": "ipython3",
   "version": "3.10.9"
  }
 },
 "nbformat": 4,
 "nbformat_minor": 5
}
