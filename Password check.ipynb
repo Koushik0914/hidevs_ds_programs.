{
 "cells": [
  {
   "cell_type": "code",
   "execution_count": 61,
   "id": "1c06137b",
   "metadata": {},
   "outputs": [
    {
     "name": "stdout",
     "output_type": "stream",
     "text": [
      "enter the passwords:ABd1234@1,a F1#,2w3E*,2We3345 \n",
      "ABd1234@1\n"
     ]
    }
   ],
   "source": [
    "password=input(\"enter the passwords:\")\n",
    "passwords_list=password.split(\",\")\n",
    "valid_passwords=[]\n",
    "for pw in passwords_list:\n",
    "    if (6<=len(pw)<=12):\n",
    "        lower=0\n",
    "        upper=0\n",
    "        num=0\n",
    "        special=0\n",
    "        for i in pw:\n",
    "            if(97<=ord(i)<=122):\n",
    "                lower=lower+1\n",
    "                continue\n",
    "            if(65<=ord(i)<=90):\n",
    "                upper=upper+1\n",
    "                continue\n",
    "            if(48<=ord(i)<=57):\n",
    "                num=num+1\n",
    "                continue\n",
    "            if(i in '@#$'):\n",
    "                special=special+1\n",
    "        if (lower>0 and upper>0 and num>0 and special>0):\n",
    "                valid_passwords.append(pw)\n",
    "print((\",\").join(valid_passwords))\n"
   ]
  },
  {
   "cell_type": "code",
   "execution_count": null,
   "id": "e46724ca",
   "metadata": {},
   "outputs": [],
   "source": []
  }
 ],
 "metadata": {
  "kernelspec": {
   "display_name": "Python 3 (ipykernel)",
   "language": "python",
   "name": "python3"
  },
  "language_info": {
   "codemirror_mode": {
    "name": "ipython",
    "version": 3
   },
   "file_extension": ".py",
   "mimetype": "text/x-python",
   "name": "python",
   "nbconvert_exporter": "python",
   "pygments_lexer": "ipython3",
   "version": "3.10.9"
  }
 },
 "nbformat": 4,
 "nbformat_minor": 5
}
