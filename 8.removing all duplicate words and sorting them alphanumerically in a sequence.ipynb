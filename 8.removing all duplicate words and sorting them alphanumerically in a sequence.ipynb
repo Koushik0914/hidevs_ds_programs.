{
 "cells": [
  {
   "cell_type": "code",
   "execution_count": 7,
   "id": "dba64311",
   "metadata": {},
   "outputs": [
    {
     "name": "stdout",
     "output_type": "stream",
     "text": [
      "enter the sequencehello world and practice makes perfect and hello world again\n",
      "again and hello makes perfect practice world\n",
      "['again', 'and', 'hello', 'makes', 'perfect', 'practice', 'world']\n"
     ]
    }
   ],
   "source": [
    "seq = input(\"enter the sequence\")\n",
    "L=seq.split(\" \")\n",
    "S=set(L)\n",
    "L1=list(S)\n",
    "L1.sort()\n",
    "new_seq=(\" \").join(L1)\n",
    "print(new_seq)"
   ]
  },
  {
   "cell_type": "code",
   "execution_count": null,
   "id": "f29505fa",
   "metadata": {},
   "outputs": [],
   "source": []
  }
 ],
 "metadata": {
  "kernelspec": {
   "display_name": "Python 3 (ipykernel)",
   "language": "python",
   "name": "python3"
  },
  "language_info": {
   "codemirror_mode": {
    "name": "ipython",
    "version": 3
   },
   "file_extension": ".py",
   "mimetype": "text/x-python",
   "name": "python",
   "nbconvert_exporter": "python",
   "pygments_lexer": "ipython3",
   "version": "3.10.9"
  }
 },
 "nbformat": 4,
 "nbformat_minor": 5
}
