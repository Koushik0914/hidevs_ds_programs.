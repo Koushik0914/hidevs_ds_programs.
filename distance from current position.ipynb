{
 "cells": [
  {
   "cell_type": "code",
   "execution_count": 7,
   "id": "2fb16d8f",
   "metadata": {},
   "outputs": [
    {
     "name": "stdout",
     "output_type": "stream",
     "text": [
      "input the diections:UP 5 DOWN 3 LEFT 3 RIGHT 2\n",
      "2\n"
     ]
    }
   ],
   "source": [
    "import math\n",
    "\n",
    "directions=input(\"input the diections:\")\n",
    "directions_list=directions.split()\n",
    "X_cordinate=int(directions_list[1])-int(directions_list[3])\n",
    "Y_cordinate=int(directions_list[5])-int(directions_list[7])\n",
    "\n",
    "distance= round(math.sqrt(X_cordinate**2-Y_cordinate**2))\n",
    "print(distance)"
   ]
  },
  {
   "cell_type": "code",
   "execution_count": null,
   "id": "ba127042",
   "metadata": {},
   "outputs": [],
   "source": []
  }
 ],
 "metadata": {
  "kernelspec": {
   "display_name": "Python 3 (ipykernel)",
   "language": "python",
   "name": "python3"
  },
  "language_info": {
   "codemirror_mode": {
    "name": "ipython",
    "version": 3
   },
   "file_extension": ".py",
   "mimetype": "text/x-python",
   "name": "python",
   "nbconvert_exporter": "python",
   "pygments_lexer": "ipython3",
   "version": "3.10.9"
  }
 },
 "nbformat": 4,
 "nbformat_minor": 5
}
