{
 "cells": [
  {
   "cell_type": "code",
   "execution_count": 33,
   "id": "8d6f7dc4",
   "metadata": {},
   "outputs": [
    {
     "name": "stdout",
     "output_type": "stream",
     "text": [
      "enter 1st number:6\n",
      "enter 2nd number:8\n",
      "sum = 14\n"
     ]
    }
   ],
   "source": []
  },
  {
   "cell_type": "code",
   "execution_count": 49,
   "id": "436d3828",
   "metadata": {},
   "outputs": [
    {
     "name": "stdout",
     "output_type": "stream",
     "text": [
      "enter the function you want the documentation on: sum_of_two\n",
      "sum_of_two\n",
      "No Python documentation found for 'sum_of_two'.\n",
      "Use help() to get the interactive help utility.\n",
      "Use help(str) for help on the str class.\n",
      "\n"
     ]
    }
   ],
   "source": [
    "def sum_of_two(x,y):\n",
    "    '''Takes two numbers x, y as inputs and returns their sum'''\n",
    "    return(x+y)\n",
    "function=input(\"enter the function you want the documentation on: \")\n",
    "string=function.split(\"()\")[0]\n",
    "help(string)\n"
   ]
  },
  {
   "cell_type": "code",
   "execution_count": 51,
   "id": "d86eb39b",
   "metadata": {},
   "outputs": [
    {
     "name": "stdout",
     "output_type": "stream",
     "text": [
      "Help on function sum_of_two in module __main__:\n",
      "\n",
      "sum_of_two(x, y)\n",
      "    Takes two numbers x, y as inputs and returns their sum\n",
      "\n"
     ]
    }
   ],
   "source": [
    "help(sum_of_two)"
   ]
  },
  {
   "cell_type": "code",
   "execution_count": null,
   "id": "26bd277e",
   "metadata": {},
   "outputs": [],
   "source": []
  }
 ],
 "metadata": {
  "kernelspec": {
   "display_name": "Python 3 (ipykernel)",
   "language": "python",
   "name": "python3"
  },
  "language_info": {
   "codemirror_mode": {
    "name": "ipython",
    "version": 3
   },
   "file_extension": ".py",
   "mimetype": "text/x-python",
   "name": "python",
   "nbconvert_exporter": "python",
   "pygments_lexer": "ipython3",
   "version": "3.10.9"
  }
 },
 "nbformat": 4,
 "nbformat_minor": 5
}
