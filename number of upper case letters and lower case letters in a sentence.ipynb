{
 "cells": [
  {
   "cell_type": "code",
   "execution_count": 3,
   "id": "8fde4d9f",
   "metadata": {},
   "outputs": [
    {
     "name": "stdout",
     "output_type": "stream",
     "text": [
      "Enter a sentenceHello world!\n",
      "UPPER CASE 1 LOWER CASE 9\n"
     ]
    }
   ],
   "source": [
    "x= input(\"Enter a sentence\")\n",
    "u=0\n",
    "l=0\n",
    "for i in x:\n",
    "    if(65<=ord(i)<=90):\n",
    "        u=u+1\n",
    "    if(97<=ord(i)<=122):\n",
    "        l=l+1\n",
    "print(\"UPPER CASE {} LOWER CASE {}\".format(u,l))"
   ]
  },
  {
   "cell_type": "code",
   "execution_count": null,
   "id": "99487571",
   "metadata": {},
   "outputs": [],
   "source": []
  }
 ],
 "metadata": {
  "kernelspec": {
   "display_name": "Python 3 (ipykernel)",
   "language": "python",
   "name": "python3"
  },
  "language_info": {
   "codemirror_mode": {
    "name": "ipython",
    "version": 3
   },
   "file_extension": ".py",
   "mimetype": "text/x-python",
   "name": "python",
   "nbconvert_exporter": "python",
   "pygments_lexer": "ipython3",
   "version": "3.10.9"
  }
 },
 "nbformat": 4,
 "nbformat_minor": 5
}
