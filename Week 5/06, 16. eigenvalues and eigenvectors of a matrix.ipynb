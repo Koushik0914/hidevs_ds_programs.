{
 "cells": [
  {
   "cell_type": "raw",
   "id": "9fb08075",
   "metadata": {},
   "source": [
    "What is an eigenvalue and an eigenvector of a matrix? Write a Python function to calculate the eigenvalues and eigenvectors of a matrix using only built-in Python data structures.\n",
    "\n"
   ]
  },
  {
   "cell_type": "code",
   "execution_count": null,
   "id": "b45428d2",
   "metadata": {},
   "outputs": [],
   "source": [
    "def matrix():\n",
    "    col=int(input(\"Enter the number of columns in matrix: \"))\n",
    "    row=int(input(\"Enter the number of rows in matrix: \"))\n",
    "    lst=[[0 for i in range(col)] for j in range(row)]\n",
    "    for i in range(row):\n",
    "        for j in range(col):\n",
    "            lst[i][j]=int(input(\"Enter the [{}][{}] element of the matrix: \".format(i+1,j+1)))\n",
    "    return lst\n",
    "\n",
    "def eigenvalue(A):\n",
    "    row_A=len(A)\n",
    "    col_A=len(A[0])\n",
    "    \n",
    "    \n",
    "    \n",
    "\n",
    "\n",
    "\n",
    "A=matrix()\n",
    "print(\"A is: \")\n",
    "for row in A:\n",
    "    print (row)"
   ]
  }
 ],
 "metadata": {
  "kernelspec": {
   "display_name": "Python 3 (ipykernel)",
   "language": "python",
   "name": "python3"
  },
  "language_info": {
   "codemirror_mode": {
    "name": "ipython",
    "version": 3
   },
   "file_extension": ".py",
   "mimetype": "text/x-python",
   "name": "python",
   "nbconvert_exporter": "python",
   "pygments_lexer": "ipython3",
   "version": "3.10.9"
  }
 },
 "nbformat": 4,
 "nbformat_minor": 5
}
