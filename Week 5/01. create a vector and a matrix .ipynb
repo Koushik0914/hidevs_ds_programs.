{
 "cells": [
  {
   "cell_type": "raw",
   "id": "c652dd4e",
   "metadata": {},
   "source": [
    "What is a vector and what is a matrix? Write a Python function to create a vector and a matrix using only built-in Python data structures.\n",
    "\n",
    "A matrix is simply a rectangular array of numbers and a vector is a row (or column) of a matrix."
   ]
  },
  {
   "cell_type": "code",
   "execution_count": 11,
   "id": "97a18b36",
   "metadata": {},
   "outputs": [
    {
     "name": "stdout",
     "output_type": "stream",
     "text": [
      "Enter x: a\n",
      "Enter only integers\n",
      "Enter x: 1\n",
      "Enter y: 2\n",
      "Enter z: 3\n",
      "[1, 2, 3]\n"
     ]
    }
   ],
   "source": [
    "def vector():\n",
    "    try:\n",
    "        x=int(input(\"Enter x: \"))\n",
    "        y=int(input(\"Enter y: \"))\n",
    "        z=int(input(\"Enter z: \"))\n",
    "        lst=[x,y,z]\n",
    "        return lst\n",
    "    except ValueError:\n",
    "        print(\"Enter only integers\")\n",
    "        return vector()\n",
    "\n",
    "x=vector()\n",
    "print(x)"
   ]
  },
  {
   "cell_type": "code",
   "execution_count": 30,
   "id": "69141bd7",
   "metadata": {},
   "outputs": [
    {
     "name": "stdout",
     "output_type": "stream",
     "text": [
      "Enter the number of columns in matrix: 3\n",
      "Enter the number of rows in matrix: 2\n",
      "Enter the [1][1] element of the matrix: 1\n",
      "Enter the [1][2] element of the matrix: 2\n",
      "Enter the [1][3] element of the matrix: 3\n",
      "Enter the [2][1] element of the matrix: 4\n",
      "Enter the [2][2] element of the matrix: 5\n",
      "Enter the [2][3] element of the matrix: 6\n",
      "[1, 2, 3]\n",
      "[4, 5, 6]\n"
     ]
    }
   ],
   "source": [
    "def matrix():\n",
    "    col=int(input(\"Enter the number of columns in matrix: \"))\n",
    "    row=int(input(\"Enter the number of rows in matrix: \"))\n",
    "    lst=[[0 for i in range(col)] for j in range(row)]\n",
    "    for i in range(row):\n",
    "        for j in range(col):\n",
    "            lst[i][j]=int(input(\"Enter the [{}][{}] element of the matrix: \".format(i+1,j+1)))\n",
    "    return lst\n",
    "\n",
    "A=matrix()\n",
    "for row in A:\n",
    "    print (row)"
   ]
  }
 ],
 "metadata": {
  "kernelspec": {
   "display_name": "Python 3 (ipykernel)",
   "language": "python",
   "name": "python3"
  },
  "language_info": {
   "codemirror_mode": {
    "name": "ipython",
    "version": 3
   },
   "file_extension": ".py",
   "mimetype": "text/x-python",
   "name": "python",
   "nbconvert_exporter": "python",
   "pygments_lexer": "ipython3",
   "version": "3.10.9"
  }
 },
 "nbformat": 4,
 "nbformat_minor": 5
}
