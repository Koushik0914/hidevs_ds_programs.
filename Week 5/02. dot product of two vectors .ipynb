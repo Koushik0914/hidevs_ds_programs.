{
 "cells": [
  {
   "cell_type": "raw",
   "id": "f840ebbd",
   "metadata": {},
   "source": [
    "What is the dot product between two vectors? Write a Python function to calculate the dot product of two vectors using only built-in Python data structures.\n",
    "\n",
    "The dot product of two vectors is the sum of the products of their corresponding components. "
   ]
  },
  {
   "cell_type": "code",
   "execution_count": 5,
   "id": "4456651c",
   "metadata": {},
   "outputs": [
    {
     "name": "stdout",
     "output_type": "stream",
     "text": [
      "Enter x: 1\n",
      "Enter y: 2\n",
      "Enter z: 3\n",
      "Enter x: 1\n",
      "Enter y: 2\n",
      "Enter z: 3\n",
      "14\n"
     ]
    }
   ],
   "source": [
    "def vector():\n",
    "    x=int(input(\"Enter x: \"))\n",
    "    y=int(input(\"Enter y: \"))\n",
    "    z=int(input(\"Enter z: \"))\n",
    "    lst=[x,y,z]\n",
    "    return lst\n",
    "def dot_product(x,y):\n",
    "    dot=0\n",
    "    for i in range(3):\n",
    "        dot=dot+x[i]*y[i]\n",
    "    return dot\n",
    "        \n",
    "\n",
    "x=vector()\n",
    "y=vector()\n",
    "\n",
    "print(dot_product(x,y))"
   ]
  },
  {
   "cell_type": "code",
   "execution_count": null,
   "id": "8d645427",
   "metadata": {},
   "outputs": [],
   "source": []
  }
 ],
 "metadata": {
  "kernelspec": {
   "display_name": "Python 3 (ipykernel)",
   "language": "python",
   "name": "python3"
  },
  "language_info": {
   "codemirror_mode": {
    "name": "ipython",
    "version": 3
   },
   "file_extension": ".py",
   "mimetype": "text/x-python",
   "name": "python",
   "nbconvert_exporter": "python",
   "pygments_lexer": "ipython3",
   "version": "3.10.9"
  }
 },
 "nbformat": 4,
 "nbformat_minor": 5
}
