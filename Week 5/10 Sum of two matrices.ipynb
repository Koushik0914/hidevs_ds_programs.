{
 "cells": [
  {
   "cell_type": "raw",
   "id": "3f41eca5",
   "metadata": {},
   "source": [
    "Write a Python function that takes in two matrices of the same size and computes their sum. The function should return a new matrix that is the sum of the input matrices."
   ]
  },
  {
   "cell_type": "code",
   "execution_count": 1,
   "id": "05191bf6",
   "metadata": {},
   "outputs": [
    {
     "name": "stdout",
     "output_type": "stream",
     "text": [
      "Enter the number of columns in matrix: 3\n",
      "Enter the number of rows in matrix: 3\n",
      "Enter the [1][1] element of the matrix: 1\n",
      "Enter the [1][2] element of the matrix: 2\n",
      "Enter the [1][3] element of the matrix: 3\n",
      "Enter the [2][1] element of the matrix: 4\n",
      "Enter the [2][2] element of the matrix: 5\n",
      "Enter the [2][3] element of the matrix: 6\n",
      "Enter the [3][1] element of the matrix: 7\n",
      "Enter the [3][2] element of the matrix: 8\n",
      "Enter the [3][3] element of the matrix: 9\n",
      "Enter the number of columns in matrix: 3\n",
      "Enter the number of rows in matrix: 3\n",
      "Enter the [1][1] element of the matrix: 1\n",
      "Enter the [1][2] element of the matrix: 2\n",
      "Enter the [1][3] element of the matrix: 3\n",
      "Enter the [2][1] element of the matrix: 4\n",
      "Enter the [2][2] element of the matrix: 5\n",
      "Enter the [2][3] element of the matrix: 6\n",
      "Enter the [3][1] element of the matrix: 7\n",
      "Enter the [3][2] element of the matrix: 8\n",
      "Enter the [3][3] element of the matrix: 9\n",
      "A is: \n",
      "[1, 2, 3]\n",
      "[4, 5, 6]\n",
      "[7, 8, 9]\n",
      "B is: \n",
      "[1, 2, 3]\n",
      "[4, 5, 6]\n",
      "[7, 8, 9]\n",
      "C is: \n",
      "[2, 4, 6]\n",
      "[8, 10, 12]\n",
      "[14, 16, 18]\n"
     ]
    }
   ],
   "source": [
    "def matrix():\n",
    "    col=int(input(\"Enter the number of columns in matrix: \"))\n",
    "    row=int(input(\"Enter the number of rows in matrix: \"))\n",
    "    lst=[[0 for i in range(col)] for j in range(row)]\n",
    "    for i in range(row):\n",
    "        for j in range(col):\n",
    "            lst[i][j]=int(input(\"Enter the [{}][{}] element of the matrix: \".format(i+1,j+1)))\n",
    "    return lst\n",
    "def sum_mat(A,B):\n",
    "    row_A=len(A)\n",
    "    col_A=len(A[0])\n",
    "    row_B=len(B)\n",
    "    col_B=len(B[0])\n",
    "    if row_A==row_B and col_A==col_B:\n",
    "        C=[[0 for i in range(col_A)] for j in range(row_A)]\n",
    "        for i in range(row_A):\n",
    "            for j in range(col_A):\n",
    "                C[i][j]=A[i][j]+B[i][j]\n",
    "        return C\n",
    "        \n",
    "    else:\n",
    "        print(\"Matrix multiplication is not possible..\")\n",
    "\n",
    "A=matrix()\n",
    "B=matrix()\n",
    "C=sum_mat(A,B)\n",
    "print(\"A is: \")\n",
    "for row in A:\n",
    "    print (row)\n",
    "print(\"B is: \")\n",
    "for row in B:\n",
    "    print (row)\n",
    "print(\"C is: \")\n",
    "for row in C:\n",
    "    print (row)"
   ]
  },
  {
   "cell_type": "code",
   "execution_count": null,
   "id": "a72967c2",
   "metadata": {},
   "outputs": [],
   "source": []
  }
 ],
 "metadata": {
  "kernelspec": {
   "display_name": "Python 3 (ipykernel)",
   "language": "python",
   "name": "python3"
  },
  "language_info": {
   "codemirror_mode": {
    "name": "ipython",
    "version": 3
   },
   "file_extension": ".py",
   "mimetype": "text/x-python",
   "name": "python",
   "nbconvert_exporter": "python",
   "pygments_lexer": "ipython3",
   "version": "3.10.9"
  }
 },
 "nbformat": 4,
 "nbformat_minor": 5
}
