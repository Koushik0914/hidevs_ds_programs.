{
 "cells": [
  {
   "cell_type": "raw",
   "id": "59746ac2",
   "metadata": {},
   "source": [
    "Write a Python function that takes in a matrix and a scalar and computes the product of the matrix and scalar. The function should return a new matrix that is the product of the input matrix and scalar."
   ]
  },
  {
   "cell_type": "code",
   "execution_count": 3,
   "id": "91b3835a",
   "metadata": {},
   "outputs": [
    {
     "name": "stdout",
     "output_type": "stream",
     "text": [
      "Enter the number of columns in matrix: 2\n",
      "Enter the number of rows in matrix: 2\n",
      "Enter the [1][1] element of the matrix: 1\n",
      "Enter the [1][2] element of the matrix: 2\n",
      "Enter the [2][1] element of the matrix: 3\n",
      "Enter the [2][2] element of the matrix: 4\n",
      "Enter the scalar6\n",
      "A is: \n",
      "[1, 2]\n",
      "[3, 4]\n",
      "B is: \n",
      "[6, 12]\n",
      "[18, 24]\n"
     ]
    }
   ],
   "source": [
    "def matrix():\n",
    "    col=int(input(\"Enter the number of columns in matrix: \"))\n",
    "    row=int(input(\"Enter the number of rows in matrix: \"))\n",
    "    lst=[[0 for i in range(col)] for j in range(row)]\n",
    "    for i in range(row):\n",
    "        for j in range(col):\n",
    "            lst[i][j]=int(input(\"Enter the [{}][{}] element of the matrix: \".format(i+1,j+1)))\n",
    "    return lst\n",
    "def scalar_mul(A,k):\n",
    "    row_A=len(A)\n",
    "    col_A=len(A[0])\n",
    "    B=[[0 for i in range(col_A)] for j in range(row_A)]\n",
    "    for i in range(row_A):\n",
    "        for j in range(col_A):\n",
    "            B[i][j]=k*A[i][j]\n",
    "    return B\n",
    "\n",
    "A=matrix()\n",
    "k=int(input(\"Enter the scalar\"))\n",
    "B=scalar_mul(A,k)\n",
    "\n",
    "print(\"A is: \")\n",
    "for row in A:\n",
    "    print (row)\n",
    "print(\"B is: \")\n",
    "for row in B:\n",
    "    print (row)"
   ]
  },
  {
   "cell_type": "code",
   "execution_count": null,
   "id": "9b6db2ec",
   "metadata": {},
   "outputs": [],
   "source": []
  }
 ],
 "metadata": {
  "kernelspec": {
   "display_name": "Python 3 (ipykernel)",
   "language": "python",
   "name": "python3"
  },
  "language_info": {
   "codemirror_mode": {
    "name": "ipython",
    "version": 3
   },
   "file_extension": ".py",
   "mimetype": "text/x-python",
   "name": "python",
   "nbconvert_exporter": "python",
   "pygments_lexer": "ipython3",
   "version": "3.10.9"
  }
 },
 "nbformat": 4,
 "nbformat_minor": 5
}
