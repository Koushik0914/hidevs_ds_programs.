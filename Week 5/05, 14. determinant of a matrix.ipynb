{
 "cells": [
  {
   "cell_type": "raw",
   "id": "6b596f43",
   "metadata": {},
   "source": [
    "What is the determinant of a matrix? Write a Python function to calculate the determinant of a matrix using only built-in Python data structures."
   ]
  },
  {
   "cell_type": "code",
   "execution_count": 17,
   "id": "5c572a94",
   "metadata": {},
   "outputs": [
    {
     "name": "stdout",
     "output_type": "stream",
     "text": [
      "Enter the number of columns in matrix: 3\n",
      "Enter the number of rows in matrix: 3\n",
      "Enter the [1][1] element of the matrix: 4\n",
      "Enter the [1][2] element of the matrix: -3\n",
      "Enter the [1][3] element of the matrix: 5\n",
      "Enter the [2][1] element of the matrix: 1\n",
      "Enter the [2][2] element of the matrix: 0\n",
      "Enter the [2][3] element of the matrix: 3\n",
      "Enter the [3][1] element of the matrix: -1\n",
      "Enter the [3][2] element of the matrix: 5\n",
      "Enter the [3][3] element of the matrix: 2\n",
      "A is: \n",
      "[4, -3, 5]\n",
      "[1, 0, 3]\n",
      "[-1, 5, 2]\n",
      "the determinant of the matrix is: -20\n"
     ]
    }
   ],
   "source": [
    "def matrix():\n",
    "    col=int(input(\"Enter the number of columns in matrix: \"))\n",
    "    row=int(input(\"Enter the number of rows in matrix: \"))\n",
    "    lst=[[0 for i in range(col)] for j in range(row)]\n",
    "    for i in range(row):\n",
    "        for j in range(col):\n",
    "            lst[i][j]=int(input(\"Enter the [{}][{}] element of the matrix: \".format(i+1,j+1)))\n",
    "    return lst\n",
    "\n",
    "def det(A):\n",
    "    row_A=len(A)\n",
    "    col_A=len(A[0])\n",
    "    if row_A==col_A:\n",
    "        if row_A==2:\n",
    "            return (A[0][0]*A[1][1]-A[1][0]*A[0][1])\n",
    "        else:\n",
    "            d=0\n",
    "            a=1\n",
    "            for i in range(col_A): #iterating through 1st column\n",
    "                B=[[0 for k in range(row_A-1)] for l in range(row_A-1)]\n",
    "                for x in range(row_A-1):\n",
    "                    for y in range(row_A-1):\n",
    "                        b = y if y<i else y+1\n",
    "                        B[x][y]=A[x+1][b]\n",
    "                d=d+a*A[0][i]*(det(B))\n",
    "                a=-a\n",
    "            return d        \n",
    "                    \n",
    "    else:\n",
    "        print(\" Determinant of the matrix can't be determined..\")\n",
    "\n",
    "\n",
    "A=matrix()\n",
    "print(\"A is: \")\n",
    "for row in A:\n",
    "    print (row)\n",
    "\n",
    "print(\"the determinant of the matrix is:\", det(A))"
   ]
  },
  {
   "cell_type": "code",
   "execution_count": null,
   "id": "8fee96f2",
   "metadata": {},
   "outputs": [],
   "source": []
  }
 ],
 "metadata": {
  "kernelspec": {
   "display_name": "Python 3 (ipykernel)",
   "language": "python",
   "name": "python3"
  },
  "language_info": {
   "codemirror_mode": {
    "name": "ipython",
    "version": 3
   },
   "file_extension": ".py",
   "mimetype": "text/x-python",
   "name": "python",
   "nbconvert_exporter": "python",
   "pygments_lexer": "ipython3",
   "version": "3.10.9"
  }
 },
 "nbformat": 4,
 "nbformat_minor": 5
}
