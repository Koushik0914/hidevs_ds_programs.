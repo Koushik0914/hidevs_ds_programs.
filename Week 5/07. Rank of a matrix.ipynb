{
 "cells": [
  {
   "cell_type": "raw",
   "id": "1f434de3",
   "metadata": {},
   "source": [
    "What is the rank of a matrix? Write a Python function to calculate the rank of a matrix using only built-in Python data structures.\n",
    "\n",
    "The maximum number of linearly independent columns (or rows) of a matrix is called the rank of a matrix."
   ]
  },
  {
   "cell_type": "code",
   "execution_count": 16,
   "id": "82132d76",
   "metadata": {},
   "outputs": [
    {
     "name": "stdout",
     "output_type": "stream",
     "text": [
      "Enter the number of columns in matrix: 3\n",
      "Enter the number of rows in matrix: 3\n",
      "Enter the [1][1] element of the matrix: 1\n",
      "Enter the [1][2] element of the matrix: 2\n",
      "Enter the [1][3] element of the matrix: 3\n",
      "Enter the [2][1] element of the matrix: 2\n",
      "Enter the [2][2] element of the matrix: 3\n",
      "Enter the [2][3] element of the matrix: 4\n",
      "Enter the [3][1] element of the matrix: 3\n",
      "Enter the [3][2] element of the matrix: 5\n",
      "Enter the [3][3] element of the matrix: 7\n",
      "A is: \n",
      "[1, 2, 3]\n",
      "[2, 3, 4]\n",
      "[3, 5, 7]\n",
      "The rank of the matrix A is:2\n",
      "A is: \n",
      "[1, 2, 3]\n",
      "[0.0, -1.0, -2.0]\n",
      "[0.0, 0.0, 0.0]\n"
     ]
    }
   ],
   "source": [
    "def matrix():\n",
    "    col=int(input(\"Enter the number of columns in matrix: \"))\n",
    "    row=int(input(\"Enter the number of rows in matrix: \"))\n",
    "    lst=[[0 for i in range(col)] for j in range(row)]\n",
    "    for i in range(row):\n",
    "        for j in range(col):\n",
    "            lst[i][j]=int(input(\"Enter the [{}][{}] element of the matrix: \".format(i+1,j+1)))\n",
    "    return lst\n",
    "\n",
    "\n",
    "\n",
    "def rank(A):\n",
    "    row_A = len(A)\n",
    "    col_A = len(A[0])\n",
    "    \n",
    "    for i in range(row_A):\n",
    "        for j in range(i + 1, row_A):\n",
    "            if A[i][i] == 0:\n",
    "                continue\n",
    "            c = A[j][i] / A[i][i]\n",
    "            for k in range(col_A):\n",
    "                A[j][k] -= c * A[i][k]\n",
    "    \n",
    "    r = 0\n",
    "    for i in range(row_A):\n",
    "        for j in range(col_A):\n",
    "            if A[i][j] != 0:\n",
    "                r = r+1\n",
    "                break\n",
    "\n",
    "    return r\n",
    "\n",
    "A=matrix()\n",
    "\n",
    "print(\"A is: \")\n",
    "for row in A:\n",
    "    print (row)\n",
    "print(\"The rank of the matrix A is:{}\".format(rank(A)))\n",
    "print(\"A is: \")\n",
    "for row in A:\n",
    "    print (row)\n"
   ]
  },
  {
   "cell_type": "code",
   "execution_count": 5,
   "id": "53ba9c00",
   "metadata": {},
   "outputs": [
    {
     "name": "stdout",
     "output_type": "stream",
     "text": [
      "0.6666666666666666\n"
     ]
    }
   ],
   "source": [
    "print(2/3)"
   ]
  },
  {
   "cell_type": "code",
   "execution_count": null,
   "id": "a58fac5c",
   "metadata": {},
   "outputs": [],
   "source": []
  }
 ],
 "metadata": {
  "kernelspec": {
   "display_name": "Python 3 (ipykernel)",
   "language": "python",
   "name": "python3"
  },
  "language_info": {
   "codemirror_mode": {
    "name": "ipython",
    "version": 3
   },
   "file_extension": ".py",
   "mimetype": "text/x-python",
   "name": "python",
   "nbconvert_exporter": "python",
   "pygments_lexer": "ipython3",
   "version": "3.10.9"
  }
 },
 "nbformat": 4,
 "nbformat_minor": 5
}
