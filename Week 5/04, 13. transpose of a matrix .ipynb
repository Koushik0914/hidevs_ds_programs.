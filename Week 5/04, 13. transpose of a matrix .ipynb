{
 "cells": [
  {
   "cell_type": "raw",
   "id": "b7dbc5b7",
   "metadata": {},
   "source": [
    "What is the transpose of a matrix? Write a Python function to calculate the transpose of a matrix using only built-in Python data structures.\n",
    "\n",
    "The transpose of a matrix is found by interchanging its rows into columns or columns into rows."
   ]
  },
  {
   "cell_type": "code",
   "execution_count": 1,
   "id": "52b7404e",
   "metadata": {},
   "outputs": [
    {
     "name": "stdout",
     "output_type": "stream",
     "text": [
      "Enter the number of columns in matrix: 3\n",
      "Enter the number of rows in matrix: 3\n",
      "Enter the [1][1] element of the matrix: 1\n",
      "Enter the [1][2] element of the matrix: 2\n",
      "Enter the [1][3] element of the matrix: 3\n",
      "Enter the [2][1] element of the matrix: 4\n",
      "Enter the [2][2] element of the matrix: 5\n",
      "Enter the [2][3] element of the matrix: 6\n",
      "Enter the [3][1] element of the matrix: 7\n",
      "Enter the [3][2] element of the matrix: 8\n",
      "Enter the [3][3] element of the matrix: 9\n",
      "A is: \n",
      "[1, 2, 3]\n",
      "[4, 5, 6]\n",
      "[7, 8, 9]\n",
      "and the transpose of A is: \n",
      "[1, 4, 7]\n",
      "[2, 5, 8]\n",
      "[3, 6, 9]\n"
     ]
    }
   ],
   "source": [
    "def matrix():\n",
    "    col=int(input(\"Enter the number of columns in matrix: \"))\n",
    "    row=int(input(\"Enter the number of rows in matrix: \"))\n",
    "    lst=[[0 for i in range(col)] for j in range(row)]\n",
    "    for i in range(row):\n",
    "        for j in range(col):\n",
    "            lst[i][j]=int(input(\"Enter the [{}][{}] element of the matrix: \".format(i+1,j+1)))\n",
    "    return lst\n",
    "\n",
    "def transpose(A):\n",
    "    row_A=len(A)\n",
    "    col_A=len(A[0])\n",
    "    B=[[0 for i in range(row_A)] for j in range(col_A)]\n",
    "    for k in range(col_A):\n",
    "        for l in range(row_A):\n",
    "            B[k][l]=A[l][k]\n",
    "    return B\n",
    "\n",
    "A=matrix()\n",
    "B=transpose(A)\n",
    "print(\"A is: \")\n",
    "for row in A:\n",
    "    print (row)\n",
    "print(\"and the transpose of A is: \")\n",
    "for row in B:\n",
    "    print (row)"
   ]
  },
  {
   "cell_type": "code",
   "execution_count": null,
   "id": "c204dff3",
   "metadata": {},
   "outputs": [],
   "source": []
  }
 ],
 "metadata": {
  "kernelspec": {
   "display_name": "Python 3 (ipykernel)",
   "language": "python",
   "name": "python3"
  },
  "language_info": {
   "codemirror_mode": {
    "name": "ipython",
    "version": 3
   },
   "file_extension": ".py",
   "mimetype": "text/x-python",
   "name": "python",
   "nbconvert_exporter": "python",
   "pygments_lexer": "ipython3",
   "version": "3.10.9"
  }
 },
 "nbformat": 4,
 "nbformat_minor": 5
}
