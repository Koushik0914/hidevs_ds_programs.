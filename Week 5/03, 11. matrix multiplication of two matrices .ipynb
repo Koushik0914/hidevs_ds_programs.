{
 "cells": [
  {
   "cell_type": "raw",
   "id": "65a5d700",
   "metadata": {},
   "source": [
    "What is matrix multiplication? Write a Python function to perform matrix multiplication of two matrices using only built-in Python data structures."
   ]
  },
  {
   "cell_type": "code",
   "execution_count": 12,
   "id": "c451b12e",
   "metadata": {},
   "outputs": [
    {
     "name": "stdout",
     "output_type": "stream",
     "text": [
      "Enter the number of columns in matrix: 2\n",
      "Enter the number of rows in matrix: 2\n",
      "Enter the [1][1] element of the matrix: 3\n",
      "Enter the [1][2] element of the matrix: 7\n",
      "Enter the [2][1] element of the matrix: 4\n",
      "Enter the [2][2] element of the matrix: 9\n",
      "Enter the number of columns in matrix: 2\n",
      "Enter the number of rows in matrix: 2\n",
      "Enter the [1][1] element of the matrix: 6\n",
      "Enter the [1][2] element of the matrix: 2\n",
      "Enter the [2][1] element of the matrix: 5\n",
      "Enter the [2][2] element of the matrix: 8\n",
      "A is: \n",
      "[3, 7]\n",
      "[4, 9]\n",
      "B is: \n",
      "[6, 2]\n",
      "[5, 8]\n",
      "C is: \n",
      "[53, 62]\n",
      "[69, 80]\n"
     ]
    }
   ],
   "source": [
    "def matrix():\n",
    "    col=int(input(\"Enter the number of columns in matrix: \"))\n",
    "    row=int(input(\"Enter the number of rows in matrix: \"))\n",
    "    lst=[[0 for i in range(col)] for j in range(row)]\n",
    "    for i in range(row):\n",
    "        for j in range(col):\n",
    "            lst[i][j]=int(input(\"Enter the [{}][{}] element of the matrix: \".format(i+1,j+1)))\n",
    "    return lst\n",
    "\n",
    "def mat_mul(A,B):\n",
    "    row_A=len(A)\n",
    "    col_A=len(A[0])\n",
    "    row_B=len(B)\n",
    "    col_B=len(B[0])\n",
    "    if col_A==row_B:\n",
    "        C=[[0 for i in range(col_B)] for j in range(row_A)]\n",
    "        for i in range(row_A):\n",
    "            for j in range(col_B):\n",
    "                for l in range(row_B):\n",
    "                    C[i][j]=C[i][j]+A[i][l]*B[l][j]\n",
    "        return C\n",
    "        \n",
    "    else:\n",
    "        print(\"Matrix multiplication is not possible\")\n",
    "    \n",
    "\n",
    "A=matrix()\n",
    "B=matrix()\n",
    "C=mat_mul(A,B)\n",
    "print(\"A is: \")\n",
    "for row in A:\n",
    "    print (row)\n",
    "print(\"B is: \")\n",
    "for row in B:\n",
    "    print (row)\n",
    "print(\"C is: \")\n",
    "for row in C:\n",
    "    print (row)\n",
    "    \n",
    "    \n"
   ]
  },
  {
   "cell_type": "code",
   "execution_count": 6,
   "id": "54dc20bb",
   "metadata": {},
   "outputs": [
    {
     "name": "stdout",
     "output_type": "stream",
     "text": [
      "3 2\n"
     ]
    }
   ],
   "source": [
    "l=[[0]*2]*3\n",
    "print(len(l),len(l[0]))"
   ]
  },
  {
   "cell_type": "code",
   "execution_count": null,
   "id": "f1edf4ce",
   "metadata": {},
   "outputs": [],
   "source": []
  }
 ],
 "metadata": {
  "kernelspec": {
   "display_name": "Python 3 (ipykernel)",
   "language": "python",
   "name": "python3"
  },
  "language_info": {
   "codemirror_mode": {
    "name": "ipython",
    "version": 3
   },
   "file_extension": ".py",
   "mimetype": "text/x-python",
   "name": "python",
   "nbconvert_exporter": "python",
   "pygments_lexer": "ipython3",
   "version": "3.10.9"
  }
 },
 "nbformat": 4,
 "nbformat_minor": 5
}
