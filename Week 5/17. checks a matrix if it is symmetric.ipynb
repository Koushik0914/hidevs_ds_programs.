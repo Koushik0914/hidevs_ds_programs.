{
 "cells": [
  {
   "cell_type": "raw",
   "id": "545f3fc5",
   "metadata": {},
   "source": [
    "Write a Python function that takes in a matrix and checks if it is symmetric. The function should return True if the matrix is symmetric, False otherwise."
   ]
  },
  {
   "cell_type": "code",
   "execution_count": 7,
   "id": "7717bc09",
   "metadata": {},
   "outputs": [
    {
     "name": "stdout",
     "output_type": "stream",
     "text": [
      "Enter the number of columns in matrix: 2\n",
      "Enter the number of rows in matrix: 2\n",
      "Enter the [1][1] element of the matrix: 1\n",
      "Enter the [1][2] element of the matrix: 2\n",
      "Enter the [2][1] element of the matrix: 3\n",
      "Enter the [2][2] element of the matrix: 4\n",
      "A is: \n",
      "[1, 2]\n",
      "[3, 4]\n",
      "False\n"
     ]
    }
   ],
   "source": [
    "def matrix():\n",
    "    col=int(input(\"Enter the number of columns in matrix: \"))\n",
    "    row=int(input(\"Enter the number of rows in matrix: \"))\n",
    "    lst=[[0 for i in range(col)] for j in range(row)]\n",
    "    for i in range(row):\n",
    "        for j in range(col):\n",
    "            lst[i][j]=int(input(\"Enter the [{}][{}] element of the matrix: \".format(i+1,j+1)))\n",
    "    return lst\n",
    "\n",
    "def symmetric_or_not(A):\n",
    "    row_A=len(A)\n",
    "    col_A=len(A[0])\n",
    "    x=True\n",
    "    if row_A==col_A:\n",
    "        for i in range(row_A):\n",
    "            for j in range(col_A):\n",
    "                if A[i][j]!=A[j][i]:\n",
    "                    x=False\n",
    "                    break\n",
    "    else:\n",
    "        x=False\n",
    "    return x\n",
    "\n",
    "\n",
    "A=matrix()\n",
    "print(\"A is: \")\n",
    "for row in A:\n",
    "    print (row)\n",
    "print(symmetric_or_not(A))"
   ]
  },
  {
   "cell_type": "code",
   "execution_count": null,
   "id": "95bd4227",
   "metadata": {},
   "outputs": [],
   "source": []
  }
 ],
 "metadata": {
  "kernelspec": {
   "display_name": "Python 3 (ipykernel)",
   "language": "python",
   "name": "python3"
  },
  "language_info": {
   "codemirror_mode": {
    "name": "ipython",
    "version": 3
   },
   "file_extension": ".py",
   "mimetype": "text/x-python",
   "name": "python",
   "nbconvert_exporter": "python",
   "pygments_lexer": "ipython3",
   "version": "3.10.9"
  }
 },
 "nbformat": 4,
 "nbformat_minor": 5
}
