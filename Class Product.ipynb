{
 "cells": [
  {
   "cell_type": "raw",
   "id": "3dd17000",
   "metadata": {},
   "source": [
    "Level: Hard\n",
    "\n",
    "\n",
    "Problem Statement:\n",
    "\n",
    "You are building a website that displays information about various products. Implement a Python class that represents a product. The class should have keyword-only arguments to define the product's attributes such as name, price, and category. Implement methods within the class to perform operations such as calculating the discounted price or updating the product details. Test the class by creating instances of products and calling the methods.\n",
    "\n"
   ]
  },
  {
   "cell_type": "code",
   "execution_count": 4,
   "id": "f2c35d3d",
   "metadata": {},
   "outputs": [
    {
     "name": "stdout",
     "output_type": "stream",
     "text": [
      "\n",
      "            1. Enter 1 to add/update the information about the product\n",
      "            2. Enter 2 to calculate discount\n",
      "            3. Enter 3 to quit\n",
      "            1\n",
      "Enter the name of the product: brush\n",
      "Enter the price of the product: 100\n",
      "Enter the category of the product: cleaning\n",
      "\n",
      "            1. Enter 1 to add/update the information about the product\n",
      "            2. Enter 2 to calculate discount\n",
      "            3. Enter 3 to quit\n",
      "            2\n",
      "Enter the discount on the product: 10\n",
      "The discounted price on the product is: 90.0\n",
      "\n",
      "            1. Enter 1 to add/update the information about the product\n",
      "            2. Enter 2 to calculate discount\n",
      "            3. Enter 3 to quit\n",
      "            3\n"
     ]
    }
   ],
   "source": [
    "class product:\n",
    "    \n",
    "    def __init__(self):\n",
    "        self.name=''\n",
    "        self.price=0\n",
    "        self.category=''\n",
    "        \n",
    "        self.menu()\n",
    "        \n",
    "    def menu(self):\n",
    "        while True:\n",
    "            user_input=input(\"\"\"\n",
    "            1. Enter 1 to add/update the information about the product\n",
    "            2. Enter 2 to calculate discount\n",
    "            3. Enter 3 to quit\n",
    "            \"\"\")\n",
    "            if user_input=='1':\n",
    "                self.add_info()\n",
    "            elif user_input=='2':\n",
    "                self.calc_discount()\n",
    "            elif user_input=='3':\n",
    "                break            \n",
    "                 \n",
    "    def add_info(self):\n",
    "        name=input(\"Enter the name of the product: \")\n",
    "        price=int(input(\"Enter the price of the product: \"))\n",
    "        category=input(\"Enter the category of the product: \")\n",
    "        self.name=name\n",
    "        self.price=price\n",
    "        self.category=category\n",
    "        \n",
    "    def calc_discount(self):\n",
    "        discount=int(input(\"Enter the discount on the product(in %): \"))\n",
    "        print(\"The discounted price on the product is: {}\".format(self.price-(self.price*discount/100)))\n",
    "        \n",
    "\n",
    "brush=product()\n",
    "        \n",
    "        "
   ]
  },
  {
   "cell_type": "code",
   "execution_count": null,
   "id": "0bd5e485",
   "metadata": {},
   "outputs": [],
   "source": []
  }
 ],
 "metadata": {
  "kernelspec": {
   "display_name": "Python 3 (ipykernel)",
   "language": "python",
   "name": "python3"
  },
  "language_info": {
   "codemirror_mode": {
    "name": "ipython",
    "version": 3
   },
   "file_extension": ".py",
   "mimetype": "text/x-python",
   "name": "python",
   "nbconvert_exporter": "python",
   "pygments_lexer": "ipython3",
   "version": "3.10.9"
  }
 },
 "nbformat": 4,
 "nbformat_minor": 5
}
