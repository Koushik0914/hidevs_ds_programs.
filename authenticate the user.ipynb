{
 "cells": [
  {
   "cell_type": "raw",
   "id": "cd509d7e",
   "metadata": {},
   "source": [
    "Level: Medium\n",
    "\n",
    "\n",
    "Problem Statement:\n",
    "\n",
    "You are working on a web application that requires user authentication. Implement a function that takes **kwargs as input, where the keyword arguments represent the user's credentials (e.g., username and password). The function should authenticate the user by checking the credentials against a database(here you need to connect your program to database do without it). Return a Boolean value indicating whether the authentication was successful or not."
   ]
  },
  {
   "cell_type": "code",
   "execution_count": 4,
   "id": "7ac1450a",
   "metadata": {},
   "outputs": [
    {
     "data": {
      "text/plain": [
       "True"
      ]
     },
     "execution_count": 4,
     "metadata": {},
     "output_type": "execute_result"
    }
   ],
   "source": [
    "def authenticate_user(**kwargs):\n",
    "    valid_users = {\n",
    "        'koushik': '1234',\n",
    "        'user2': 'password2',\n",
    "        'user3': 'password3',\n",
    "    }\n",
    "\n",
    "    username = kwargs.get('username')\n",
    "    password = kwargs.get('password')\n",
    "\n",
    "    if username in valid_users and valid_users[username] == password:\n",
    "        return True\n",
    "    else:\n",
    "        return False\n",
    "    \n",
    "authenticate_user(username='koushik',password='1234')"
   ]
  },
  {
   "cell_type": "code",
   "execution_count": null,
   "id": "d5f0cd2b",
   "metadata": {},
   "outputs": [],
   "source": []
  }
 ],
 "metadata": {
  "kernelspec": {
   "display_name": "Python 3 (ipykernel)",
   "language": "python",
   "name": "python3"
  },
  "language_info": {
   "codemirror_mode": {
    "name": "ipython",
    "version": 3
   },
   "file_extension": ".py",
   "mimetype": "text/x-python",
   "name": "python",
   "nbconvert_exporter": "python",
   "pygments_lexer": "ipython3",
   "version": "3.10.9"
  }
 },
 "nbformat": 4,
 "nbformat_minor": 5
}
