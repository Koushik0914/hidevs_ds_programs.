{
 "cells": [
  {
   "cell_type": "code",
   "execution_count": 2,
   "id": "70318e76",
   "metadata": {},
   "outputs": [
    {
     "name": "stdout",
     "output_type": "stream",
     "text": [
      "input the first string: koushik\n",
      "input the second string: reddy\n",
      "koushik\n"
     ]
    }
   ],
   "source": [
    "i=2\n",
    "first=input(\"input the first string: \")\n",
    "second=input(\"input the second string: \")\n",
    "if(len(first)>len(second)):\n",
    "    print(first)\n",
    "elif(len(first)<len(second)):\n",
    "    print(second)\n",
    "else:\n",
    "    print(first,second)"
   ]
  },
  {
   "cell_type": "code",
   "execution_count": null,
   "id": "0ce479d7",
   "metadata": {},
   "outputs": [],
   "source": []
  }
 ],
 "metadata": {
  "kernelspec": {
   "display_name": "Python 3 (ipykernel)",
   "language": "python",
   "name": "python3"
  },
  "language_info": {
   "codemirror_mode": {
    "name": "ipython",
    "version": 3
   },
   "file_extension": ".py",
   "mimetype": "text/x-python",
   "name": "python",
   "nbconvert_exporter": "python",
   "pygments_lexer": "ipython3",
   "version": "3.10.9"
  }
 },
 "nbformat": 4,
 "nbformat_minor": 5
}
