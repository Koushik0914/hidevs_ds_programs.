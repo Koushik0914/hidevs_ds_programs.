{
 "cells": [
  {
   "cell_type": "raw",
   "id": "db911178",
   "metadata": {},
   "source": [
    "Level: Easy\n",
    "\n",
    "\n",
    "Problem Statement:\n",
    "\n",
    "You are developing a calculator application in Python. Implement a function that takes in *args as input and returns the sum of all the numbers passed as arguments. Test the function by passing different numbers as arguments and printing the result.\n",
    "    "
   ]
  },
  {
   "cell_type": "code",
   "execution_count": 34,
   "id": "9ffe83f9",
   "metadata": {},
   "outputs": [
    {
     "name": "stdout",
     "output_type": "stream",
     "text": [
      "15\n"
     ]
    }
   ],
   "source": [
    "def calculate_sum(*args):\n",
    "    add=0\n",
    "    for arg in args:\n",
    "        add=add+arg\n",
    "    return add\n",
    "\n",
    "print(calculate_sum(1, 2, 3, 4, 5))\n"
   ]
  },
  {
   "cell_type": "code",
   "execution_count": null,
   "id": "afb7ef99",
   "metadata": {},
   "outputs": [],
   "source": []
  }
 ],
 "metadata": {
  "kernelspec": {
   "display_name": "Python 3 (ipykernel)",
   "language": "python",
   "name": "python3"
  },
  "language_info": {
   "codemirror_mode": {
    "name": "ipython",
    "version": 3
   },
   "file_extension": ".py",
   "mimetype": "text/x-python",
   "name": "python",
   "nbconvert_exporter": "python",
   "pygments_lexer": "ipython3",
   "version": "3.10.9"
  }
 },
 "nbformat": 4,
 "nbformat_minor": 5
}
